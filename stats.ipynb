{
 "cells": [
  {
   "cell_type": "code",
   "execution_count": null,
   "id": "602744eb",
   "metadata": {},
   "outputs": [],
   "source": []
  },
  {
   "cell_type": "code",
   "execution_count": 1,
   "id": "26670788",
   "metadata": {},
   "outputs": [],
   "source": [
    "import os\n",
    "import math\n",
    "import numpy as np\n",
    "import matplotlib.pyplot as plt\n",
    "import h5py\n",
    "import pandas as pd\n",
    "import seaborn as sns\n",
    "from scipy import stats\n",
    "\n",
    "from osgeo import gdal\n",
    "from osgeo import gdal_array\n",
    "from osgeo import osr"
   ]
  },
  {
   "cell_type": "code",
   "execution_count": 2,
   "id": "f118538b",
   "metadata": {},
   "outputs": [],
   "source": [
    "def tif2array(file_path, dtype=np.uint8):\n",
    "    \"\"\"\n",
    "    read GeoTiff and convert to numpy.ndarray.\n",
    "    inputs:\n",
    "        file_path (str) : file path of the input GeoTiff file\n",
    "    return:\n",
    "        image(np.array) : image for each bands\n",
    "        dataset : for gdal's data drive\n",
    "    \"\"\"\n",
    "    dataset = gdal.Open(file_path, gdal.GA_ReadOnly)\n",
    "\n",
    "    if dataset is None:\n",
    "        return None\n",
    "\n",
    "    # Allocate our array using the first band's datatype\n",
    "    image_datatype = dataset.GetRasterBand(1).DataType\n",
    "    image = np.zeros((dataset.RasterYSize, dataset.RasterXSize, dataset.RasterCount),\n",
    "                     dtype=dtype)\n",
    "\n",
    "    # Loop over all bands in dataset\n",
    "    for b in range(dataset.RasterCount):\n",
    "        # Remember, GDAL index is on 1, but Python is on 0 -- so we add 1 for our GDAL calls\n",
    "        band = dataset.GetRasterBand(b + 1)\n",
    "        # Read in the band's data into the third dimension of our array\n",
    "        image[:, :, b] = band.ReadAsArray()#buf_type=gdalconst.GDT_Byte)\n",
    "\n",
    "    #image = image[2:-2,2:-2,:]\n",
    "\n",
    "    return image"
   ]
  },
  {
   "cell_type": "markdown",
   "id": "23ebd5d6",
   "metadata": {},
   "source": [
    "### Köppen climate"
   ]
  },
  {
   "cell_type": "code",
   "execution_count": 3,
   "id": "d552a1be",
   "metadata": {},
   "outputs": [],
   "source": [
    "file_path = \"/home/philipp/Data/modis/aligned/georgia_clipped/koeppen.tif\"\n",
    "koeppen = tif2array(file_path, dtype=np.int8)"
   ]
  },
  {
   "cell_type": "code",
   "execution_count": 25,
   "id": "b0007971",
   "metadata": {},
   "outputs": [
    {
     "data": {
      "text/plain": [
       "(967620,)"
      ]
     },
     "execution_count": 25,
     "metadata": {},
     "output_type": "execute_result"
    }
   ],
   "source": [
    "koeppen_stat = koeppen.flatten()\n",
    "koeppen_stat = koeppen_stat[koeppen_stat>0]\n",
    "koeppen_stat.shape"
   ]
  },
  {
   "cell_type": "code",
   "execution_count": 28,
   "id": "d2d7426b",
   "metadata": {},
   "outputs": [
    {
     "name": "stdout",
     "output_type": "stream",
     "text": [
      "[ 7 14 15 25 26 27 29 30]\n",
      "[ 4. 26.  4.  6. 40. 15.  6.  0.]\n"
     ]
    }
   ],
   "source": [
    "unique, counts = np.unique(koeppen_stat, return_counts=True)\n",
    "print(unique)\n",
    "print(np.around((counts/koeppen_stat.size)*100,0))"
   ]
  },
  {
   "cell_type": "markdown",
   "id": "83843944",
   "metadata": {},
   "source": [
    "### Land cover"
   ]
  },
  {
   "cell_type": "code",
   "execution_count": 29,
   "id": "dbd0e881",
   "metadata": {},
   "outputs": [
    {
     "name": "stdout",
     "output_type": "stream",
     "text": [
      "[ 20  30  40  50  60  70  80  90 100 111 114 115 116 121 124 125 126]\n",
      "[ 0. 28. 16.  2.  1.  1.  0.  0.  0.  5. 33.  2.  5.  0.  1.  0.  6.]\n"
     ]
    }
   ],
   "source": [
    "file_path = \"/home/philipp/Data/modis/aligned/georgia_clipped/lc.tif\"\n",
    "lc = tif2array(file_path, dtype=np.int8)\n",
    "\n",
    "lc_stat = lc.flatten()\n",
    "lc_stat = lc_stat[lc_stat>0]\n",
    "lc_stat.shape\n",
    "\n",
    "unique, counts = np.unique(lc_stat, return_counts=True)\n",
    "print(unique)\n",
    "print(np.around((counts/lc_stat.size)*100,0))"
   ]
  },
  {
   "cell_type": "code",
   "execution_count": 30,
   "id": "8b39b159",
   "metadata": {},
   "outputs": [
    {
     "name": "stdout",
     "output_type": "stream",
     "text": [
      "[ 20  30  40  50  60  70  80  90 100 111 114 115 116 121 124 125 126]\n",
      "[ 0.5 28.  15.8  1.8  1.2  0.8  0.4  0.3  0.   4.6 32.9  1.6  5.   0.1\n",
      "  0.9  0.   6.2]\n"
     ]
    }
   ],
   "source": [
    "print(unique)\n",
    "print(np.around((counts/lc_stat.size)*100,1))"
   ]
  },
  {
   "cell_type": "code",
   "execution_count": null,
   "id": "4136260e",
   "metadata": {},
   "outputs": [],
   "source": []
  }
 ],
 "metadata": {
  "kernelspec": {
   "display_name": "modis",
   "language": "python",
   "name": "modis"
  },
  "language_info": {
   "codemirror_mode": {
    "name": "ipython",
    "version": 3
   },
   "file_extension": ".py",
   "mimetype": "text/x-python",
   "name": "python",
   "nbconvert_exporter": "python",
   "pygments_lexer": "ipython3",
   "version": "3.9.7"
  }
 },
 "nbformat": 4,
 "nbformat_minor": 5
}
